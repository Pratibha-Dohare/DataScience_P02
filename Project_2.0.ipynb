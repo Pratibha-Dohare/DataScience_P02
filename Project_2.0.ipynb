{
 "cells": [
  {
   "cell_type": "markdown",
   "id": "ded9db86",
   "metadata": {},
   "source": [
    "# ROCK, PAPER, SCISSOR GAME"
   ]
  },
  {
   "cell_type": "code",
   "execution_count": 14,
   "id": "1dad1534",
   "metadata": {},
   "outputs": [
    {
     "name": "stdout",
     "output_type": "stream",
     "text": [
      "Hello buddy!, let's play our favourite game for deciding things in childhood\n",
      "Rock, Paper, Scissor\n",
      "\n",
      "Choose between Rock/Paper/Scissor [Rock, Paper or scissors]\n",
      "Paper\n",
      "\n",
      "Choose between Rock/Paper/Scissor [Rock, Paper or scissors]\n",
      "Scissor\n",
      "\n",
      "user1 choose Paper and user2 choose Scissor\n",
      "User2 wins\n"
     ]
    }
   ],
   "source": [
    "print(\"Hello buddy!, let's play our favourite game for deciding things in childhood\")\n",
    "print(\"Rock, Paper, Scissor\")\n",
    "\n",
    "\n",
    "user1=str(input(\"\\nChoose between Rock/Paper/Scissor [Rock, Paper or scissors]\\n\"))               #taking choice from users\n",
    "user2=str(input(\"\\nChoose between Rock/Paper/Scissor [Rock, Paper or scissors]\\n\"))\n",
    "          \n",
    "                #when user 1 selects Rock and user 2 choose other 3\n",
    "    \n",
    "if (user1==\"Rock\") and (user2==\"Rock\"):\n",
    "    print(\"\\nNo one wins among you!, it's a tie\\nPlease play again to decide the winner\")\n",
    "elif (user1==\"Rock\") and (user2==\"Paper\"):\n",
    "    print(\"Player1 choose {User1} and Player2 choose {User2}\\nUser2 wins\".format(User1=user1, User2=user2))\n",
    "elif (user1==\"Rock\") and (user2==\"Scissor\"):\n",
    "    print(\"user1 choose {User1} and user2 choose {User2}\\nUser1 wins\".format(User1=user1, User2=user2))\n",
    "    \n",
    "                #when user 1 selects Paper and user 2 choose other 3\n",
    "        \n",
    "elif (user1==\"Paper\") and (user2==\"Paper\"):\n",
    "    print(\"\\nNo one wins among you!, it's a tie\\nPlease play again to decide the winner\")\n",
    "elif (user1==\"Paper\") and (user2==\"Rock\"):\n",
    "    print(\"\\nPlayer1 choose {User1} and Player2 choose {User2}\\nUser1 wins\".format(User1=user1, User2=user2))\n",
    "elif (user1==\"Paper\") and (user2==\"Scissor\"):\n",
    "    print(\"\\nuser1 choose {User1} and user2 choose {User2}\\nUser2 wins\".format(User1=user1, User2=user2))\n",
    "        \n",
    "              #when user 1 selects scissor and user 2 choose other 3\n",
    "            \n",
    "elif (user1==\"Scissor\") and (user2==\"Scissor\"):\n",
    "    print(\"\\nNo one wins among you!, it's a tie\\nPlease play again to decide the winner\")\n",
    "elif (user1==\"Scissor\") and (user2==\"Rock\"):\n",
    "    print(\"\\nPlayer1 choose {User1} and Player2 choose {User2}\\nUser2 wins\".format(User1=user1, User2=user2))\n",
    "elif (user1==\"Scissor\") and (user2==\"Paper\"):\n",
    "    print(\"\\nuser1 choose {User1} and user2 choose {User2}\\nUser1 wins\".format(User1=user1, User2=user2)) \n",
    "else:\n",
    "    print(\"\\nError! Please see the options you can enter in the game and try again\")\n",
    "            \n",
    "        \n",
    "\n"
   ]
  },
  {
   "cell_type": "code",
   "execution_count": null,
   "id": "5236b5d4",
   "metadata": {},
   "outputs": [],
   "source": []
  }
 ],
 "metadata": {
  "kernelspec": {
   "display_name": "Python 3 (ipykernel)",
   "language": "python",
   "name": "python3"
  },
  "language_info": {
   "codemirror_mode": {
    "name": "ipython",
    "version": 3
   },
   "file_extension": ".py",
   "mimetype": "text/x-python",
   "name": "python",
   "nbconvert_exporter": "python",
   "pygments_lexer": "ipython3",
   "version": "3.9.7"
  }
 },
 "nbformat": 4,
 "nbformat_minor": 5
}
